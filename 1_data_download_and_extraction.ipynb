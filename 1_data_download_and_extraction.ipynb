{
 "cells": [
  {
   "cell_type": "code",
   "execution_count": null,
   "id": "d0f41141-1a4a-47b2-87b6-00096fd8ec57",
   "metadata": {
    "scrolled": true
   },
   "outputs": [],
   "source": [
    "# 安装必要的库\n",
    "!pip install torch torchvision torchaudio\n",
    "!pip install opencv-python matplotlib seaborn pandas numpy\n",
    "!pip install scikit-learn pillow\n",
    "#!pip install wget\n",
    "#!pip install jupyterlab-language-pack-zh-CN"
   ]
  },
  {
   "cell_type": "code",
   "execution_count": 3,
   "id": "4ec522d3-95d7-4e61-ab82-b141b3bf219b",
   "metadata": {},
   "outputs": [],
   "source": [
    "import os\n",
    "import wget\n",
    "import zipfile\n",
    "import shutil\n",
    "from pathlib import Path"
   ]
  },
  {
   "cell_type": "code",
   "execution_count": null,
   "id": "2bf2dc4b-a76d-4806-a919-ca3da5de7702",
   "metadata": {},
   "outputs": [],
   "source": [
    "# 创建项目目录结构\n",
    "project_dirs = [\n",
    "    'data/raw',\n",
    "    'data/processed', \n",
    "    'data/annotations',\n",
    "    'models',\n",
    "    'results'\n",
    "]\n",
    "\n",
    "for dir_path in project_dirs:\n",
    "    Path(dir_path).mkdir(parents=True, exist_ok=True)\n",
    "    \n",
    "print(\"项目目录结构创建完成\")"
   ]
  },
  {
   "cell_type": "code",
   "execution_count": null,
   "id": "1aa86f20-b2ae-4493-a4d7-3d0f4aad97fa",
   "metadata": {},
   "outputs": [],
   "source": [
    "url = \"https://zihao-openmmlab.obs.cn-east-3.myhuaweicloud.com/20220716-mmclassification/dataset/melon17/melon17_full.zip\"\n",
    "zip_path = \"data/raw/melon17_full.zip\"\n",
    "\n",
    "if not os.path.exists(zip_path):\n",
    "    print(\"正在下载数据集...\")\n",
    "    wget.download(url, zip_path)\n",
    "    print(\"\\n数据集下载完成\")\n",
    "else:\n",
    "    print(\"数据集已存在\")\n",
    "#python 解压数据集\n",
    "extract_path = \"data/raw/\"\n",
    "\n",
    "with zipfile.ZipFile(zip_path, 'r') as zip_ref:\n",
    "    zip_ref.extractall(extract_path)\n",
    "    \n",
    "print(\"数据集解压完成\")\n",
    "\n"
   ]
  },
  {
   "cell_type": "code",
   "execution_count": null,
   "id": "2a2a3dc8-bb8d-4bcc-81e1-d7f3fb5bad03",
   "metadata": {},
   "outputs": [],
   "source": [
    "# 查看数据集结构\n",
    "for root, dirs, files in os.walk(\"data/raw/melon17_full\"):\n",
    "    level = root.replace(\"data/raw/melon17_full\", '').count(os.sep)\n",
    "    indent = ' ' * 2 * level\n",
    "    print(f\"{indent}{os.path.basename(root)}/\")\n",
    "    subindent = ' ' * 2 * (level + 1)\n",
    "    for file in files[:5]:  # 只显示前5个文件\n",
    "        print(f\"{subindent}{file}\")\n",
    "    if len(files) > 5:\n",
    "        print(f\"{subindent}... 还有{len(files)-5}个文件\")"
   ]
  },
  {
   "cell_type": "code",
   "execution_count": null,
   "id": "d9139ba3-4593-462a-bdd0-3adf775e41df",
   "metadata": {},
   "outputs": [],
   "source": []
  },
  {
   "cell_type": "code",
   "execution_count": null,
   "id": "b0684889-259d-4fe1-9f9c-4dc5526560b8",
   "metadata": {},
   "outputs": [],
   "source": []
  }
 ],
 "metadata": {
  "kernelspec": {
   "display_name": "Python 3 (ipykernel)",
   "language": "python",
   "name": "python3"
  },
  "language_info": {
   "codemirror_mode": {
    "name": "ipython",
    "version": 3
   },
   "file_extension": ".py",
   "mimetype": "text/x-python",
   "name": "python",
   "nbconvert_exporter": "python",
   "pygments_lexer": "ipython3",
   "version": "3.11.8"
  }
 },
 "nbformat": 4,
 "nbformat_minor": 5
}
